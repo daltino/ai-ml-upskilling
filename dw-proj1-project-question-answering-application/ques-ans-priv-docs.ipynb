{
 "cells": [
  {
   "cell_type": "markdown",
   "metadata": {},
   "source": [
    "### Installing Packages"
   ]
  },
  {
   "cell_type": "code",
   "execution_count": null,
   "metadata": {},
   "outputs": [],
   "source": [
    "%pip install python-dotenv -q"
   ]
  },
  {
   "cell_type": "code",
   "execution_count": null,
   "metadata": {},
   "outputs": [],
   "source": [
    "%pip install docx2txt -q"
   ]
  },
  {
   "cell_type": "code",
   "execution_count": null,
   "metadata": {},
   "outputs": [],
   "source": [
    "%pip install pypdf -q"
   ]
  },
  {
   "cell_type": "code",
   "execution_count": null,
   "metadata": {},
   "outputs": [],
   "source": [
    "%pip install wikipedia -q"
   ]
  },
  {
   "cell_type": "markdown",
   "metadata": {},
   "source": [
    "### Load Environment Variables"
   ]
  },
  {
   "cell_type": "code",
   "execution_count": null,
   "metadata": {},
   "outputs": [],
   "source": [
    "import os\n",
    "from dotenv import load_dotenv, find_dotenv\n",
    "load_dotenv(find_dotenv(), override=True)"
   ]
  },
  {
   "cell_type": "markdown",
   "metadata": {},
   "source": [
    "### Defining Functions"
   ]
  },
  {
   "cell_type": "code",
   "execution_count": null,
   "metadata": {},
   "outputs": [],
   "source": [
    "def load_document(file):\n",
    "  import os\n",
    "  name, extension = os.path.splitext(file)\n",
    "\n",
    "  if extension == '.pdf':\n",
    "    from langchain.document_loaders import PyPDFLoader, OnlinePDFLoader\n",
    "    loader = PyPDFLoader(file)\n",
    "  elif extension == '.docx':\n",
    "    from langchain.document_loaders import Docx2txtLoader\n",
    "    loader = Docx2txtLoader(file)\n",
    "  else:\n",
    "    print('Document format is not supported!')\n",
    "    return None\n",
    "\n",
    "  data = loader.load()\n",
    "  return data"
   ]
  },
  {
   "cell_type": "code",
   "execution_count": null,
   "metadata": {},
   "outputs": [],
   "source": [
    "def load_from_wikipedia(query, lang='en', load_max_docs=2):\n",
    "  from langchain.document_loaders import WikipediaLoader\n",
    "  loader = WikipediaLoader(query=query, lang=lang, load_max_docs=load_max_docs)\n",
    "\n",
    "  data = loader.load()\n",
    "  return data"
   ]
  },
  {
   "cell_type": "code",
   "execution_count": null,
   "metadata": {},
   "outputs": [],
   "source": [
    "def chunk_data(data, chunk_size=256):\n",
    "  from langchain.text_splitter import RecursiveCharacterTextSplitter\n",
    "  text_splitter = RecursiveCharacterTextSplitter(chunk_size=512, chunk_overlap=100)\n",
    "  chunks = text_splitter.split_documents(data)\n",
    "  return chunks"
   ]
  },
  {
   "cell_type": "markdown",
   "metadata": {},
   "source": [
    "### Calculating Cost"
   ]
  },
  {
   "cell_type": "code",
   "execution_count": null,
   "metadata": {},
   "outputs": [],
   "source": [
    "def print_embedding_cost(texts):\n",
    "  import tiktoken\n",
    "  enc = tiktoken.encoding_for_model('text-embedding-ada-002')\n",
    "  total_tokens = sum([len(enc.encode(page.page_content)) for page in texts])\n",
    "  print(f'Total Tokens: {total_tokens}')\n",
    "  print(f'Embedding Cost in USD {total_tokens / 1000 * 0.0004:.6f}')"
   ]
  },
  {
   "cell_type": "markdown",
   "metadata": {},
   "source": [
    "### Embedding and Uploading to a Vector Database (Pinecone)"
   ]
  },
  {
   "cell_type": "code",
   "execution_count": null,
   "metadata": {},
   "outputs": [],
   "source": [
    "def insert_or_fetch_embeddings(index_name):\n",
    "  import pinecone\n",
    "  from langchain.vectorstores import Pinecone\n",
    "  from langchain.embeddings.openai import OpenAIEmbeddings\n",
    "  \n",
    "  embeddings = OpenAIEmbeddings()\n",
    "\n",
    "  pinecone.init(api_key=os.environ.get('PINECONE_API_KEY'), environment=os.environ.get('PINECONE_ENVIRONMENT'))\n",
    "\n",
    "  if index_name in pinecone.list_indexes():\n",
    "    print(f'Index {index_name} already exists. Loading embeddings ...', end='')\n",
    "    vector_store = Pinecone.from_existing_index(index_name, embeddings)\n",
    "    print('Ok')\n",
    "\n",
    "  # but if the index does not exist create the index and upsert the vectors\n",
    "  else:\n",
    "    print(f'Creating index {index_name} and embeddings ...', end='')\n",
    "    pinecone.create_index(index_name, dimension=1536, metric='cosine')\n",
    "    vector_store = Pinecone.from_documents(chunks, embeddings, index_name=index_name)\n",
    "    print('Ok')\n",
    "  \n",
    "  return vector_store"
   ]
  },
  {
   "cell_type": "code",
   "execution_count": null,
   "metadata": {},
   "outputs": [],
   "source": [
    "def delete_pinecone_index(index_name='all'):\n",
    "  import pinecone\n",
    "  pinecone.init(api_key=os.environ.get('PINECONE_API_KEY'), environment=os.environ.get('PINECONE_ENVIRONMENT'))\n",
    "\n",
    "  if index_name == 'all':\n",
    "    indexes = pinecone.list_indexes()\n",
    "    for index in indexes:\n",
    "      print('Deleting all indexes...', end='')\n",
    "      pinecone.delete_index(index)\n",
    "      print('Ok')\n",
    "  else:\n",
    "    print(f'Deleting all indexes {index_name} ...', end='')\n",
    "    pinecone.delete_index(index_name)\n",
    "    print('Ok')"
   ]
  },
  {
   "cell_type": "markdown",
   "metadata": {},
   "source": [
    "### Asking and Getting Answers"
   ]
  },
  {
   "cell_type": "code",
   "execution_count": null,
   "metadata": {},
   "outputs": [],
   "source": [
    "def ask_and_get_answer(vector_store, q):\n",
    "  from langchain.chains import RetrievalQA # no memory, no chat history\n",
    "  from langchain.chat_models import ChatOpenAI\n",
    "\n",
    "  llm = ChatOpenAI(temperature=1)\n",
    "\n",
    "  retriever = vector_store.as_retriever(search_type='similarity', search_kwargs={\"k\":5})\n",
    "\n",
    "  chain = RetrievalQA.from_chain_type(\n",
    "    llm=llm,\n",
    "    chain_type=\"stuff\", # the default chain_type=\"stuff\" uses ALL of the text from the document\n",
    "    retriever=retriever\n",
    "  )\n",
    "\n",
    "  answer = chain.run(q)\n",
    "  return answer"
   ]
  },
  {
   "cell_type": "code",
   "execution_count": null,
   "metadata": {},
   "outputs": [],
   "source": [
    "def ask_with_memory(vector_store, q, chat_history=[]):\n",
    "  from langchain.chains import ConversationalRetrievalChain # no memory, no chat history\n",
    "  from langchain.chat_models import ChatOpenAI\n",
    "\n",
    "  llm = ChatOpenAI(temperature=1)\n",
    "\n",
    "  retriever = vector_store.as_retriever(search_type='similarity', search_kwargs={\"k\":5})\n",
    "\n",
    "  crc = ConversationalRetrievalChain.from_llm(llm, retriever)\n",
    "  result = crc({'question': q, 'chat_history': chat_history})\n",
    "  chat_history.append((question, result['answer']))\n",
    "\n",
    "  return result, chat_history"
   ]
  },
  {
   "cell_type": "markdown",
   "metadata": {},
   "source": [
    "### Running Code"
   ]
  },
  {
   "cell_type": "code",
   "execution_count": null,
   "metadata": {},
   "outputs": [],
   "source": [
    "data = load_document('us_constitution.pdf')\n",
    "\n",
    "print(f'You have {len(data)} pages in your data')\n",
    "print(f'There are {len(data[20].page_content)} chars in one page.')"
   ]
  },
  {
   "cell_type": "code",
   "execution_count": null,
   "metadata": {},
   "outputs": [],
   "source": [
    "data = load_document('the_great_gatsby.docx')\n",
    "print(data[0].page_content)"
   ]
  },
  {
   "cell_type": "code",
   "execution_count": null,
   "metadata": {},
   "outputs": [],
   "source": [
    "data = load_from_wikipedia('GPT-4', 'de')\n",
    "print(data[0].page_content)"
   ]
  },
  {
   "cell_type": "code",
   "execution_count": null,
   "metadata": {},
   "outputs": [],
   "source": [
    "chunks = chunk_data(data)\n",
    "print(len(chunks))\n",
    "# print(chunks[10].page_content)\n",
    "print_embedding_cost(chunks)"
   ]
  },
  {
   "cell_type": "code",
   "execution_count": null,
   "metadata": {},
   "outputs": [],
   "source": [
    "delete_pinecone_index()"
   ]
  },
  {
   "cell_type": "code",
   "execution_count": null,
   "metadata": {},
   "outputs": [],
   "source": [
    "index_name = 'us-consitution'\n",
    "vector_store = insert_or_fetch_embeddings(index_name)"
   ]
  },
  {
   "cell_type": "code",
   "execution_count": null,
   "metadata": {},
   "outputs": [],
   "source": [
    "q = 'What is the whole document about?'\n",
    "answer = ask_and_get_answer(vector_store, q)\n",
    "print(answer)"
   ]
  },
  {
   "cell_type": "code",
   "execution_count": null,
   "metadata": {},
   "outputs": [],
   "source": [
    "import time\n",
    "\n",
    "i = 1\n",
    "print('Write Quit or Exit to quit.')\n",
    "while True:\n",
    "  q = input(f'\\nQuestion #{i}: ')\n",
    "  i = i + 1\n",
    "  if q.lower() in ['quit', 'exit']:\n",
    "    print('Quitting... Bye Bye! \\n')\n",
    "    time.sleep(2)\n",
    "    break\n",
    "\n",
    "  answer = ask_and_get_answer(vector_store, q)\n",
    "  print(f'\\Answer: {answer}')\n",
    "  print(f'\\n {\"-\" * 50} \\n')"
   ]
  },
  {
   "cell_type": "code",
   "execution_count": null,
   "metadata": {},
   "outputs": [],
   "source": [
    "data = load_from_wikipedia('ChatGPT', 'ro')\n",
    "chunks = chunk_data(data)\n",
    "index_name = 'chatgpt'\n",
    "vector_store = insert_or_fetch_embeddings(index_name)"
   ]
  },
  {
   "cell_type": "code",
   "execution_count": null,
   "metadata": {},
   "outputs": [],
   "source": [
    "q = 'Ce este ChatGPT?'\n",
    "answer = ask_and_get_answer(vector_store, q)\n",
    "print(answer)"
   ]
  },
  {
   "cell_type": "code",
   "execution_count": null,
   "metadata": {},
   "outputs": [],
   "source": [
    "# ask with memory\n",
    "chat_history = []\n",
    "question = \"How many amendments are in the U.S. Constitution?\"\n",
    "result, chat_history = ask_with_memory(vector_store, question, chat_history)\n",
    "print(result['answer'])\n",
    "print(chat_history)"
   ]
  },
  {
   "cell_type": "code",
   "execution_count": null,
   "metadata": {},
   "outputs": [],
   "source": [
    "question = 'Multiply that number 2'\n",
    "result, chat_history = ask_with_memory(vector_store, question, chat_history)\n",
    "print(result['answer'])\n",
    "print(chat_history)"
   ]
  },
  {
   "cell_type": "code",
   "execution_count": null,
   "metadata": {},
   "outputs": [],
   "source": []
  }
 ],
 "metadata": {
  "kernelspec": {
   "display_name": "venv",
   "language": "python",
   "name": "venv"
  },
  "language_info": {
   "codemirror_mode": {
    "name": "ipython",
    "version": 3
   },
   "file_extension": ".py",
   "mimetype": "text/x-python",
   "name": "python",
   "nbconvert_exporter": "python",
   "pygments_lexer": "ipython3",
   "version": "3.9.12"
  }
 },
 "nbformat": 4,
 "nbformat_minor": 2
}
